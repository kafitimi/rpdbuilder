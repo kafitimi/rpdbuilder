{
 "cells": [
  {
   "cell_type": "code",
   "execution_count": 4,
   "metadata": {
    "collapsed": false
   },
   "outputs": [],
   "source": [
    "from rpdbuilder import *"
   ]
  },
  {
   "cell_type": "code",
   "execution_count": 7,
   "metadata": {
    "collapsed": false
   },
   "outputs": [],
   "source": [
    "ctx= load_ini('os.ini')"
   ]
  },
  {
   "cell_type": "code",
   "execution_count": 8,
   "metadata": {
    "collapsed": false
   },
   "outputs": [
    {
     "data": {
      "text/plain": [
       "{'author': 'Павлов Александр Викторович, к.~ф.-м.~н., ---, доцент кафедры информационных технологий ИМИ СВФУ',\n",
       " 'discipline': 'Операционные системы',\n",
       " 'planfile': '09030101_16-4ИВТ.plm.xml',\n",
       " 'year': '2016'}"
      ]
     },
     "execution_count": 8,
     "metadata": {},
     "output_type": "execute_result"
    }
   ],
   "source": [
    "ctx"
   ]
  },
  {
   "cell_type": "code",
   "execution_count": 60,
   "metadata": {
    "collapsed": false
   },
   "outputs": [
    {
     "data": {
      "text/plain": [
       "{'ЛитератураДоп': [['Хэвиленд К., Системное программирование в UNIX. Руководство программиста по разработке ПО.  М.: ДМК, 2010 ',\n",
       "   ' ',\n",
       "   ' 10 ',\n",
       "   '']],\n",
       " 'ЛитератураОсн': [['Орлов С.А., Цилькер Б.Я. Организация ЭВМ и систем. СПб.: Питер, 2014. ',\n",
       "   ' МОН РФ ',\n",
       "   ' 15 ',\n",
       "   ''],\n",
       "  ['Таненбаум Э., Современные операционные системы. СПб.: Питер, 2013.    ',\n",
       "   '        ',\n",
       "   ' 35 ',\n",
       "   '']]}"
      ]
     },
     "execution_count": 60,
     "metadata": {},
     "output_type": "execute_result"
    }
   ],
   "source": [
    "import configparser\n",
    "parser = configparser.ConfigParser(empty_lines_in_values=False)\n",
    "f = open('rpd/os.ini', encoding='utf-8')\n",
    "parser.read_file(f)\n",
    "f.close\n",
    "section = 'Литература'\n",
    "secname = ''.join(map(str.capitalize, section.split()))\n",
    "{secname + key.capitalize(): [row.split('|') for row in parser[section][key].split('\\n')] for key in parser[section]}"
   ]
  },
  {
   "cell_type": "code",
   "execution_count": 54,
   "metadata": {
    "collapsed": false
   },
   "outputs": [
    {
     "data": {
      "text/plain": [
       "'МатериальнаяБаза'"
      ]
     },
     "execution_count": 54,
     "metadata": {},
     "output_type": "execute_result"
    }
   ],
   "source": [
    "section='Материальная База'\n",
    "''.join(map(str.capitalize, section.split()))"
   ]
  },
  {
   "cell_type": "code",
   "execution_count": null,
   "metadata": {
    "collapsed": true
   },
   "outputs": [],
   "source": []
  }
 ],
 "metadata": {
  "kernelspec": {
   "display_name": "Python 3",
   "language": "python",
   "name": "python3"
  },
  "language_info": {
   "codemirror_mode": {
    "name": "ipython",
    "version": 3
   },
   "file_extension": ".py",
   "mimetype": "text/x-python",
   "name": "python",
   "nbconvert_exporter": "python",
   "pygments_lexer": "ipython3",
   "version": "3.5.2"
  }
 },
 "nbformat": 4,
 "nbformat_minor": 1
}
