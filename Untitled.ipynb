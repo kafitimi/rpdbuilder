{
 "cells": [
  {
   "cell_type": "code",
   "execution_count": 4,
   "metadata": {
    "collapsed": false
   },
   "outputs": [],
   "source": [
    "from rpdbuilder import *"
   ]
  },
  {
   "cell_type": "code",
   "execution_count": 7,
   "metadata": {
    "collapsed": false
   },
   "outputs": [],
   "source": [
    "ctx= load_ini('os.ini')"
   ]
  },
  {
   "cell_type": "code",
   "execution_count": 8,
   "metadata": {
    "collapsed": false
   },
   "outputs": [
    {
     "data": {
      "text/plain": [
       "{'author': 'Павлов Александр Викторович, к.~ф.-м.~н., ---, доцент кафедры информационных технологий ИМИ СВФУ',\n",
       " 'discipline': 'Операционные системы',\n",
       " 'planfile': '09030101_16-4ИВТ.plm.xml',\n",
       " 'year': '2016'}"
      ]
     },
     "execution_count": 8,
     "metadata": {},
     "output_type": "execute_result"
    }
   ],
   "source": [
    "ctx"
   ]
  },
  {
   "cell_type": "code",
   "execution_count": 60,
   "metadata": {
    "collapsed": false
   },
   "outputs": [
    {
     "data": {
      "text/plain": [
       "{'ЛитератураДоп': [['Хэвиленд К., Системное программирование в UNIX. Руководство программиста по разработке ПО.  М.: ДМК, 2010 ',\n",
       "   ' ',\n",
       "   ' 10 ',\n",
       "   '']],\n",
       " 'ЛитератураОсн': [['Орлов С.А., Цилькер Б.Я. Организация ЭВМ и систем. СПб.: Питер, 2014. ',\n",
       "   ' МОН РФ ',\n",
       "   ' 15 ',\n",
       "   ''],\n",
       "  ['Таненбаум Э., Современные операционные системы. СПб.: Питер, 2013.    ',\n",
       "   '        ',\n",
       "   ' 35 ',\n",
       "   '']]}"
      ]
     },
     "execution_count": 60,
     "metadata": {},
     "output_type": "execute_result"
    }
   ],
   "source": [
    "import configparser\n",
    "parser = configparser.ConfigParser(empty_lines_in_values=False)\n",
    "f = open('rpd/os.ini', encoding='utf-8')\n",
    "parser.read_file(f)\n",
    "f.close\n",
    "section = 'Литература'\n",
    "secname = ''.join(map(str.capitalize, section.split()))\n",
    "{secname + key.capitalize(): [row.split('|') for row in parser[section][key].split('\\n')] for key in parser[section]}"
   ]
  },
  {
   "cell_type": "code",
   "execution_count": 54,
   "metadata": {
    "collapsed": false
   },
   "outputs": [
    {
     "data": {
      "text/plain": [
       "'МатериальнаяБаза'"
      ]
     },
     "execution_count": 54,
     "metadata": {},
     "output_type": "execute_result"
    }
   ],
   "source": [
    "section='Материальная База'\n",
    "''.join(map(str.capitalize, section.split()))"
   ]
  },
  {
   "cell_type": "code",
   "execution_count": 1,
   "metadata": {
    "collapsed": true
   },
   "outputs": [],
   "source": [
    "from xml.etree import ElementTree as XMLTree\n",
    "planfile = 'RPD/09030101_16-4ИВТ.plm.xml'\n",
    "tree = XMLTree.parse(planfile)\n",
    "disc_code = 'Б1.В.ДВ.3.1'\n",
    "xpath = './СтрокиПлана/Строка[@НовИдДисциплины=\"{}\"]'.format(disc_code)"
   ]
  },
  {
   "cell_type": "code",
   "execution_count": 2,
   "metadata": {
    "collapsed": false
   },
   "outputs": [
    {
     "data": {
      "text/plain": [
       "'./СтрокиПлана/Строка[@НовИдДисциплины=\"Б1.В.ДВ.3.1\"]'"
      ]
     },
     "execution_count": 2,
     "metadata": {},
     "output_type": "execute_result"
    }
   ],
   "source": [
    "xpath"
   ]
  },
  {
   "cell_type": "code",
   "execution_count": 3,
   "metadata": {
    "collapsed": false
   },
   "outputs": [
    {
     "ename": "AttributeError",
     "evalue": "'str' object has no attribute 'findall'",
     "output_type": "error",
     "traceback": [
      "\u001b[0;31m---------------------------------------------------------------------------\u001b[0m",
      "\u001b[0;31mAttributeError\u001b[0m                            Traceback (most recent call last)",
      "\u001b[0;32m<ipython-input-3-afdd409261e4>\u001b[0m in \u001b[0;36m<module>\u001b[0;34m()\u001b[0m\n\u001b[0;32m----> 1\u001b[0;31m \u001b[0melement\u001b[0m \u001b[1;33m=\u001b[0m \u001b[0mxpath\u001b[0m\u001b[1;33m.\u001b[0m\u001b[0mfindall\u001b[0m\u001b[1;33m(\u001b[0m\u001b[0mpath\u001b[0m\u001b[1;33m)\u001b[0m\u001b[1;33m[\u001b[0m\u001b[1;36m0\u001b[0m\u001b[1;33m]\u001b[0m\u001b[1;33m\u001b[0m\u001b[0m\n\u001b[0m",
      "\u001b[0;31mAttributeError\u001b[0m: 'str' object has no attribute 'findall'"
     ]
    }
   ],
   "source": [
    "element = xpath.findall(path)[0]"
   ]
  },
  {
   "cell_type": "code",
   "execution_count": 4,
   "metadata": {
    "collapsed": true
   },
   "outputs": [],
   "source": [
    "p = tree.getroot()[0]\n",
    "element = p.findall(xpath)[0]"
   ]
  },
  {
   "cell_type": "code",
   "execution_count": 5,
   "metadata": {
    "collapsed": false
   },
   "outputs": [
    {
     "data": {
      "text/plain": [
       "<Element 'Строка' at 0x03836E40>"
      ]
     },
     "execution_count": 5,
     "metadata": {},
     "output_type": "execute_result"
    }
   ],
   "source": [
    "element"
   ]
  },
  {
   "cell_type": "code",
   "execution_count": 7,
   "metadata": {
    "collapsed": false
   },
   "outputs": [],
   "source": [
    "semesters = element.findall('./Сем')"
   ]
  },
  {
   "cell_type": "code",
   "execution_count": 9,
   "metadata": {
    "collapsed": false
   },
   "outputs": [],
   "source": [
    "s = semesters[0]"
   ]
  },
  {
   "cell_type": "code",
   "execution_count": 17,
   "metadata": {
    "collapsed": false
   },
   "outputs": [
    {
     "data": {
      "text/plain": [
       "[{'ЗЕТ': '3',\n",
       "  'Зач': '1',\n",
       "  'КСР': '5',\n",
       "  'Лек': '23',\n",
       "  'Ном': '2',\n",
       "  'Пр': '23',\n",
       "  'СРС': '57'}]"
      ]
     },
     "execution_count": 17,
     "metadata": {},
     "output_type": "execute_result"
    }
   ],
   "source": [
    "semesters = element.findall('./Сем[@ЗЕТ]')\n",
    "[s.attrib for s in semesters]"
   ]
  },
  {
   "cell_type": "code",
   "execution_count": null,
   "metadata": {
    "collapsed": true
   },
   "outputs": [],
   "source": []
  }
 ],
 "metadata": {
  "kernelspec": {
   "display_name": "Python 3",
   "language": "python",
   "name": "python3"
  },
  "language_info": {
   "codemirror_mode": {
    "name": "ipython",
    "version": 3
   },
   "file_extension": ".py",
   "mimetype": "text/x-python",
   "name": "python",
   "nbconvert_exporter": "python",
   "pygments_lexer": "ipython3",
   "version": "3.5.2"
  }
 },
 "nbformat": 4,
 "nbformat_minor": 1
}
